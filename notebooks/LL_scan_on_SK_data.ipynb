{
 "cells": [
  {
   "cell_type": "code",
   "execution_count": 1,
   "id": "9eb52f37-0e09-4182-9c43-df450fb124b6",
   "metadata": {},
   "outputs": [],
   "source": [
    "from app.dataManager import *\n",
    "import math\n",
    "import matplotlib.pyplot as plt"
   ]
  },
  {
   "cell_type": "code",
   "execution_count": 2,
   "id": "6892701a-b45e-4f9c-8cc5-852aef18bd59",
   "metadata": {},
   "outputs": [],
   "source": [
    "MASK_BINS = True"
   ]
  },
  {
   "cell_type": "code",
   "execution_count": 3,
   "id": "06b71230-5094-497b-b265-5c12346d20ad",
   "metadata": {},
   "outputs": [],
   "source": [
    "def valid_sample_condition(name):\n",
    "#     return 'Showering' not in name and 'Sub-GeV' not in name and 'pi^{0}' not in name and '*' not in name\n",
    "    return 'Sub-GeV' not in name and 'pi^{0}' not in name\n",
    "\n",
    "def get_counts(ana_master):\n",
    "    tot_counts = []\n",
    "    for i in range(len(ana_master.samples)):\n",
    "        s = ana_master.samples[i]\n",
    "        if valid_sample_condition(s.name):\n",
    "            tot_counts += list(get_counts_from_hist(ana_master.samples[i].data_hist))\n",
    "    return tot_counts"
   ]
  },
  {
   "cell_type": "code",
   "execution_count": 11,
   "id": "8992ca9d-9d91-4eeb-88ef-b225dc2b5b5a",
   "metadata": {},
   "outputs": [
    {
     "name": "stdout",
     "output_type": "stream",
     "text": [
      "MASK BINS:  False\n",
      "Loading Density profile from: ../data/PREM.dat\n"
     ]
    }
   ],
   "source": [
    "data = AnaMaster(mask_bins=False)\n",
    "# for i in range(len(data.samples)):\n",
    "#     data.samples[i].set_SK_true_data_as_data_hist()\n",
    "\n",
    "data.osc_weight_all()\n",
    "data.fill_histograms()"
   ]
  },
  {
   "cell_type": "code",
   "execution_count": 12,
   "id": "83e5488c-050c-4d6f-947a-cc52daea7c6a",
   "metadata": {},
   "outputs": [
    {
     "data": {
      "text/plain": [
       "9"
      ]
     },
     "execution_count": 12,
     "metadata": {},
     "output_type": "execute_result"
    }
   ],
   "source": [
    "step_t23 = 0.04\n",
    "list_of_t23 = np.arange(0.35, 0.65+step_t23, step_t23)\n",
    "len(list_of_t23)"
   ]
  },
  {
   "cell_type": "code",
   "execution_count": 13,
   "id": "0b103dc0-1877-4c04-8fde-8634ac873753",
   "metadata": {},
   "outputs": [
    {
     "name": "stdout",
     "output_type": "stream",
     "text": [
      "t23:  0.33\n",
      "MASK BINS:  True\n"
     ]
    },
    {
     "name": "stderr",
     "output_type": "stream",
     "text": [
      "Exception ignored in: <bound method IPythonKernel._clean_thread_parent_frames of <ipykernel.ipkernel.IPythonKernel object at 0x107e07b10>>\n",
      "Traceback (most recent call last):\n",
      "  File \"/Users/cjesus/miniconda3/envs/default/lib/python3.11/site-packages/ipykernel/ipkernel.py\", line 775, in _clean_thread_parent_frames\n",
      "    def _clean_thread_parent_frames(\n",
      "\n",
      "KeyboardInterrupt: \n"
     ]
    },
    {
     "ename": "KeyboardInterrupt",
     "evalue": "",
     "output_type": "error",
     "traceback": [
      "\u001b[31m---------------------------------------------------------------------------\u001b[39m",
      "\u001b[31mKeyboardInterrupt\u001b[39m                         Traceback (most recent call last)",
      "\u001b[36mCell\u001b[39m\u001b[36m \u001b[39m\u001b[32mIn[13]\u001b[39m\u001b[32m, line 11\u001b[39m\n\u001b[32m      8\u001b[39m osc_pred = AnaMaster(mask_bins=MASK_BINS)\n\u001b[32m     10\u001b[39m osc_pred.OscProb.t23 = t23\n\u001b[32m---> \u001b[39m\u001b[32m11\u001b[39m \u001b[43mosc_pred\u001b[49m\u001b[43m.\u001b[49m\u001b[43mosc_weight_all\u001b[49m\u001b[43m(\u001b[49m\u001b[43m)\u001b[49m\n\u001b[32m     12\u001b[39m osc_pred.fill_histograms()\n\u001b[32m     14\u001b[39m all_chi2 = []\n",
      "\u001b[36mFile \u001b[39m\u001b[32m~/Library/Mobile Documents/com~apple~CloudDocs/Code/AtmInKamioka/app/dataManager.py:833\u001b[39m, in \u001b[36mAnaMaster.osc_weight_all\u001b[39m\u001b[34m(self)\u001b[39m\n\u001b[32m    831\u001b[39m \u001b[38;5;28;01mfor\u001b[39;00m r \u001b[38;5;129;01min\u001b[39;00m \u001b[38;5;28mself\u001b[39m.reactions:\n\u001b[32m    832\u001b[39m     \u001b[38;5;28;01mif\u001b[39;00m \u001b[33m'\u001b[39m\u001b[33mTotal\u001b[39m\u001b[33m'\u001b[39m \u001b[38;5;129;01mnot\u001b[39;00m \u001b[38;5;129;01min\u001b[39;00m r.name:\n\u001b[32m--> \u001b[39m\u001b[32m833\u001b[39m         \u001b[43mr\u001b[49m\u001b[43m.\u001b[49m\u001b[43mapply_osc_weights\u001b[49m\u001b[43m(\u001b[49m\u001b[43m)\u001b[49m\n",
      "\u001b[36mFile \u001b[39m\u001b[32m~/Library/Mobile Documents/com~apple~CloudDocs/Code/AtmInKamioka/app/dataManager.py:347\u001b[39m, in \u001b[36mAnaReaction.apply_osc_weights\u001b[39m\u001b[34m(self)\u001b[39m\n\u001b[32m    344\u001b[39m \u001b[38;5;28;01mdef\u001b[39;00m\u001b[38;5;250m \u001b[39m\u001b[34mapply_osc_weights\u001b[39m(\u001b[38;5;28mself\u001b[39m):\n\u001b[32m    345\u001b[39m     \u001b[38;5;28;01mfor\u001b[39;00m \u001b[38;5;28mbin\u001b[39m \u001b[38;5;129;01min\u001b[39;00m \u001b[38;5;28mself\u001b[39m.ana_bins:\n\u001b[32m    346\u001b[39m         \u001b[38;5;66;03m#bin.central_value_based_osc_reweight(self.OscProb)\u001b[39;00m\n\u001b[32m--> \u001b[39m\u001b[32m347\u001b[39m         \u001b[38;5;28;43mbin\u001b[39;49m\u001b[43m.\u001b[49m\u001b[43mquantile_based_osc_reweight\u001b[49m\u001b[43m(\u001b[49m\u001b[38;5;28;43mself\u001b[39;49m\u001b[43m.\u001b[49m\u001b[43mOscProb\u001b[49m\u001b[43m)\u001b[49m\n",
      "\u001b[36mFile \u001b[39m\u001b[32m~/Library/Mobile Documents/com~apple~CloudDocs/Code/AtmInKamioka/app/dataManager.py:276\u001b[39m, in \u001b[36mAnaBin.quantile_based_osc_reweight\u001b[39m\u001b[34m(self, OscProb)\u001b[39m\n\u001b[32m    274\u001b[39m \u001b[38;5;28;01mif\u001b[39;00m \u001b[38;5;28mself\u001b[39m.ignore_bin == \u001b[38;5;28;01mFalse\u001b[39;00m:\n\u001b[32m    275\u001b[39m     \u001b[38;5;28;01mif\u001b[39;00m \u001b[38;5;28mself\u001b[39m.reaction == \u001b[33m'\u001b[39m\u001b[33mMCNue\u001b[39m\u001b[33m'\u001b[39m:\n\u001b[32m--> \u001b[39m\u001b[32m276\u001b[39m         dis_flux, app_flux, nom_flux = \u001b[38;5;28;43mself\u001b[39;49m\u001b[43m.\u001b[49m\u001b[43mget_quantile_based_flux\u001b[49m\u001b[43m(\u001b[49m\u001b[43mOscProb\u001b[49m\u001b[43m,\u001b[49m\u001b[33;43m'\u001b[39;49m\u001b[33;43mnu\u001b[39;49m\u001b[33;43m'\u001b[39;49m\u001b[43m,\u001b[49m\u001b[43m \u001b[49m\u001b[33;43m'\u001b[39;49m\u001b[33;43me\u001b[39;49m\u001b[33;43m'\u001b[39;49m\u001b[43m,\u001b[49m\u001b[43m \u001b[49m\u001b[33;43m'\u001b[39;49m\u001b[33;43mmu\u001b[39;49m\u001b[33;43m'\u001b[39;49m\u001b[43m)\u001b[49m\n\u001b[32m    277\u001b[39m         \u001b[38;5;28mself\u001b[39m.osc_weight = (dis_flux+app_flux)/nom_flux\n\u001b[32m    279\u001b[39m     \u001b[38;5;28;01melif\u001b[39;00m \u001b[38;5;28mself\u001b[39m.reaction == \u001b[33m'\u001b[39m\u001b[33mMCNueBar\u001b[39m\u001b[33m'\u001b[39m:\n",
      "\u001b[36mFile \u001b[39m\u001b[32m~/Library/Mobile Documents/com~apple~CloudDocs/Code/AtmInKamioka/app/dataManager.py:257\u001b[39m, in \u001b[36mAnaBin.get_quantile_based_flux\u001b[39m\u001b[34m(self, OscProb, nu, alpha, beta)\u001b[39m\n\u001b[32m    254\u001b[39m tot_A_flux += A_flux\n\u001b[32m    256\u001b[39m \u001b[38;5;28;01mif\u001b[39;00m beta != \u001b[33m'\u001b[39m\u001b[33mtau\u001b[39m\u001b[33m'\u001b[39m:\n\u001b[32m--> \u001b[39m\u001b[32m257\u001b[39m     weighted_A_to_A_flux  += A_flux*Q_weights[i]*Q_weights[j]*\u001b[43mOscProb\u001b[49m\u001b[43m.\u001b[49m\u001b[43mget_osc_prob\u001b[49m\u001b[43m(\u001b[49m\u001b[43mE\u001b[49m\u001b[43m,\u001b[49m\u001b[43m \u001b[49m\u001b[43mcosZ\u001b[49m\u001b[43m,\u001b[49m\u001b[43m \u001b[49m\u001b[43mnu_type\u001b[49m\u001b[43m[\u001b[49m\u001b[43mnu\u001b[49m\u001b[43m]\u001b[49m\u001b[43m,\u001b[49m\u001b[43m \u001b[49m\u001b[43mnu_flav\u001b[49m\u001b[43m[\u001b[49m\u001b[43malpha\u001b[49m\u001b[43m]\u001b[49m\u001b[43m,\u001b[49m\u001b[43m \u001b[49m\u001b[43mnu_flav\u001b[49m\u001b[43m[\u001b[49m\u001b[43malpha\u001b[49m\u001b[43m]\u001b[49m\u001b[43m)\u001b[49m\n\u001b[32m    258\u001b[39m     weighted_B_to_A_flux  += B_flux*Q_weights[i]*Q_weights[j]*OscProb.get_osc_prob(E, cosZ, nu_type[nu], nu_flav[beta], nu_flav[alpha])\n\u001b[32m    259\u001b[39m \u001b[38;5;28;01melse\u001b[39;00m:\n",
      "\u001b[36mFile \u001b[39m\u001b[32m~/Library/Mobile Documents/com~apple~CloudDocs/Code/AtmInKamioka/app/oscMaster.py:29\u001b[39m, in \u001b[36moscMaster.get_osc_prob\u001b[39m\u001b[34m(self, energy, cosZ, nutype, flav_ini, flav_end)\u001b[39m\n\u001b[32m     27\u001b[39m \u001b[38;5;28mself\u001b[39m.bp_true.definePath(cosZ, \u001b[38;5;28mself\u001b[39m.prod_height, \u001b[38;5;28;01mTrue\u001b[39;00m)\n\u001b[32m     28\u001b[39m \u001b[38;5;28mself\u001b[39m.bp_true.setMNS(\u001b[38;5;28mself\u001b[39m.t12, \u001b[38;5;28mself\u001b[39m.t13, \u001b[38;5;28mself\u001b[39m.t23, \u001b[38;5;28mself\u001b[39m.dm21, \u001b[38;5;28mself\u001b[39m.mAtm, \u001b[38;5;28mself\u001b[39m.delta, energy, \u001b[38;5;28mself\u001b[39m.ks, nutype)\n\u001b[32m---> \u001b[39m\u001b[32m29\u001b[39m \u001b[38;5;28;43mself\u001b[39;49m\u001b[43m.\u001b[49m\u001b[43mbp_true\u001b[49m\u001b[43m.\u001b[49m\u001b[43mpropagate\u001b[49m\u001b[43m(\u001b[49m\u001b[43mnutype\u001b[49m\u001b[43m)\u001b[49m\n\u001b[32m     30\u001b[39m \u001b[38;5;28;01mreturn\u001b[39;00m \u001b[38;5;28mself\u001b[39m.bp_true.getProb(flav_ini, flav_end)\n",
      "\u001b[31mKeyboardInterrupt\u001b[39m: "
     ]
    },
    {
     "name": "stdout",
     "output_type": "stream",
     "text": [
      "Loading Density profile from: ../data/PREM.dat\n"
     ]
    }
   ],
   "source": [
    "step_t23 = 0.02\n",
    "list_of_t23 = np.arange(0.33, 0.68+step_t23, step_t23)\n",
    "\n",
    "results = []\n",
    "for t23 in list_of_t23:\n",
    "\n",
    "    print('t23: ', t23)\n",
    "    osc_pred = AnaMaster(mask_bins=MASK_BINS)\n",
    "    \n",
    "    osc_pred.OscProb.t23 = t23\n",
    "    osc_pred.osc_weight_all()\n",
    "    osc_pred.fill_histograms()\n",
    "    \n",
    "    all_chi2 = []\n",
    "    \n",
    "    for i in range(len(osc_pred.samples)):\n",
    "        \n",
    "        s = osc_pred.samples[i]\n",
    "        if valid_sample_condition(s.name):\n",
    "    \n",
    "            observed = get_counts_from_hist(data.samples[i].data_hist)\n",
    "            expected = get_counts_from_hist(osc_pred.samples[i].data_hist)\n",
    "    \n",
    "            for E,O in zip(observed, expected):\n",
    "                all_chi2.append((E-O)+O*np.log(O/E))\n",
    "    \n",
    "    all_chi2 = np.reshape(all_chi2,-1)\n",
    "    \n",
    "\n",
    "    results.append(np.sum(all_chi2))\n",
    "    print(results[-1])"
   ]
  },
  {
   "cell_type": "code",
   "execution_count": null,
   "id": "d5cd2100-5c4a-4528-b03a-674eb9f827b1",
   "metadata": {},
   "outputs": [],
   "source": [
    "plt.plot(list_of_t23, results, c='navy', lw=2)\n",
    "\n",
    "plt.gca().set_ylim(0,16)\n",
    "plt.gca().set_xlim(0.3,0.7)\n",
    "\n",
    "t23_SK_MC_digitized = pd.read_csv('digitized_plots/SK-t23-MC.csv').to_numpy()\n",
    "plt.scatter(t23_SK_MC_digitized[:,0], t23_SK_MC_digitized[:,1], color='darkorange', marker='x', s=10, zorder=999)"
   ]
  },
  {
   "cell_type": "code",
   "execution_count": null,
   "id": "631d582f-59ea-4bd5-b67f-4d94fafc9619",
   "metadata": {},
   "outputs": [],
   "source": []
  },
  {
   "cell_type": "code",
   "execution_count": null,
   "id": "8e7a3ed8-4cde-4cf0-9a8c-6bf85f2744f4",
   "metadata": {},
   "outputs": [],
   "source": [
    "step_t13 = 0.005 \n",
    "list_of_t13 = np.arange(0.0, 0.07+step_t13, step_t13)\n",
    "\n",
    "results = []\n",
    "for t13 in list_of_t13:\n",
    "\n",
    "    print('t13: ', t13)\n",
    "    osc_pred = AnaMaster(mask_bins=MASK_BINS)\n",
    "    \n",
    "    osc_pred.OscProb.t13 = t13\n",
    "    osc_pred.osc_weight_all()\n",
    "    osc_pred.fill_histograms()\n",
    "    \n",
    "    all_chi2 = []\n",
    "    \n",
    "    for i in range(len(osc_pred.samples)):\n",
    "        \n",
    "        s = osc_pred.samples[i]\n",
    "        if valid_sample_condition(s.name):\n",
    "    \n",
    "            observed = get_counts_from_hist(data.samples[i].data_hist)\n",
    "            expected = get_counts_from_hist(osc_pred.samples[i].data_hist)\n",
    "    \n",
    "            for E,O in zip(observed, expected):\n",
    "                all_chi2.append((E-O)+O*np.log(O/E))\n",
    "    \n",
    "    all_chi2 = np.reshape(all_chi2,-1)\n",
    "    \n",
    "\n",
    "    results.append(np.sum(all_chi2))\n",
    "    print(results[-1])"
   ]
  },
  {
   "cell_type": "code",
   "execution_count": null,
   "id": "112250a0-f3ca-49d4-9e7f-23867e5d750b",
   "metadata": {},
   "outputs": [],
   "source": [
    "plt.plot(list_of_t13, results, c='navy', lw=2)\n",
    "\n",
    "plt.gca().set_ylim(0,16)\n",
    "plt.gca().set_xlim(0.,0.07)\n",
    "\n",
    "t13_SK_MC_digitized = pd.read_csv('digitized_plots/SK-t13-MC.csv').to_numpy()\n",
    "plt.scatter(t13_SK_MC_digitized[:,0], t13_SK_MC_digitized[:,1], color='darkorange', marker='x', s=10, zorder=999)"
   ]
  },
  {
   "cell_type": "code",
   "execution_count": null,
   "id": "c08f03f3-dca2-449b-9f43-78bd50f7f9eb",
   "metadata": {},
   "outputs": [],
   "source": [
    "step_mAtm = 0.2\n",
    "list_of_mAtm = np.arange(1.60, 3.6+step_mAtm, step_mAtm)*1e-3\n",
    "\n",
    "results = []\n",
    "for mAtm in list_of_mAtm:\n",
    "\n",
    "    print('mAtm: ', mAtm)\n",
    "    osc_pred = AnaMaster(mask_bins=MASK_BINS)\n",
    "    \n",
    "    osc_pred.OscProb.mAtm = mAtm\n",
    "    osc_pred.osc_weight_all()\n",
    "    osc_pred.fill_histograms()\n",
    "    \n",
    "    all_chi2 = []\n",
    "    \n",
    "    for i in range(len(osc_pred.samples)):\n",
    "        \n",
    "        s = osc_pred.samples[i]\n",
    "        if valid_sample_condition(s.name):\n",
    "    \n",
    "            observed = get_counts_from_hist(data.samples[i].data_hist)\n",
    "            expected = get_counts_from_hist(osc_pred.samples[i].data_hist)\n",
    "    \n",
    "            for E,O in zip(observed, expected):\n",
    "                all_chi2.append((E-O)+O*np.log(O/E))\n",
    "    \n",
    "    all_chi2 = np.reshape(all_chi2,-1)\n",
    "    \n",
    "\n",
    "    results.append(np.sum(all_chi2))\n",
    "    print(results[-1])"
   ]
  },
  {
   "cell_type": "code",
   "execution_count": null,
   "id": "f481ea8f-a639-415d-9737-d95a769e8b20",
   "metadata": {},
   "outputs": [],
   "source": [
    "plt.plot(list_of_mAtm, results, c='navy', lw=2)\n",
    "\n",
    "plt.gca().set_ylim(0,16)\n",
    "plt.gca().set_xlim(1.2e-3, 4e-3)\n",
    "\n",
    "mAtm_SK_MC_digitized = pd.read_csv('digitized_plots/SK-mAtm-MC.csv').to_numpy()\n",
    "plt.scatter(mAtm_SK_MC_digitized[:,0]*1e-3, mAtm_SK_MC_digitized[:,1], color='darkorange', marker='x', s=10, zorder=999)"
   ]
  },
  {
   "cell_type": "code",
   "execution_count": null,
   "id": "b90095d9-9718-406c-8da1-a6bd9f4e411f",
   "metadata": {},
   "outputs": [],
   "source": []
  },
  {
   "cell_type": "code",
   "execution_count": null,
   "id": "19f7514d-1e22-43a8-bf95-74579bf3b35c",
   "metadata": {},
   "outputs": [],
   "source": [
    "offset = -0.0031853100000001078\n",
    "list_of_dcp = np.array([-math.pi*.999] + list(np.arange(-3.1+0.45+offset,3.1,0.45)) + [math.pi*.999])\n",
    "\n",
    "len(list_of_dcp)\n",
    "results = []\n",
    "for dcp in list_of_dcp:\n",
    "\n",
    "    print('dcp: ', dcp)\n",
    "    osc_pred = AnaMaster(mask_bins=MASK_BINS)\n",
    "    \n",
    "    osc_pred.OscProb.delta = dcp\n",
    "    osc_pred.osc_weight_all()\n",
    "    osc_pred.fill_histograms()\n",
    "    \n",
    "    all_chi2 = []\n",
    "    \n",
    "    for i in range(len(osc_pred.samples)):\n",
    "        \n",
    "        s = osc_pred.samples[i]\n",
    "        if valid_sample_condition(s.name):\n",
    "    \n",
    "            observed = get_counts_from_hist(data.samples[i].data_hist)\n",
    "            expected = get_counts_from_hist(osc_pred.samples[i].data_hist)\n",
    "    \n",
    "            for E,O in zip(observed, expected):\n",
    "                all_chi2.append((E-O)+O*np.log(O/E))\n",
    "    \n",
    "    all_chi2 = np.reshape(all_chi2,-1)\n",
    "    \n",
    "\n",
    "    results.append(np.sum(all_chi2))\n",
    "    print(results[-1])"
   ]
  },
  {
   "cell_type": "code",
   "execution_count": null,
   "id": "e8707556-f526-4957-b844-1e2387067f59",
   "metadata": {},
   "outputs": [],
   "source": [
    "plt.plot(list_of_dcp, results, c='navy', lw=2)\n",
    "\n",
    "plt.gca().set_ylim(0,4)\n",
    "plt.gca().set_xlim(-math.pi, math.pi)\n",
    "\n",
    "dcp_SK_MC_digitized = pd.read_csv('digitized_plots/SK-dcp-MC.csv').to_numpy()\n",
    "plt.scatter(dcp_SK_MC_digitized[:,0], dcp_SK_MC_digitized[:,1], color='darkorange', marker='x', s=10, zorder=999)"
   ]
  },
  {
   "cell_type": "code",
   "execution_count": null,
   "id": "735ba054-242d-4ae4-b885-cf7911053acd",
   "metadata": {},
   "outputs": [],
   "source": []
  },
  {
   "cell_type": "code",
   "execution_count": null,
   "id": "86d215c5-2f6c-44fe-9315-3d7126c670f6",
   "metadata": {},
   "outputs": [],
   "source": []
  },
  {
   "cell_type": "code",
   "execution_count": null,
   "id": "e36bb2ee-7c3a-4973-b58d-96d7644c58b7",
   "metadata": {},
   "outputs": [],
   "source": []
  },
  {
   "cell_type": "code",
   "execution_count": null,
   "id": "6d9eb62a-58e8-4215-8495-06f5112e2577",
   "metadata": {},
   "outputs": [],
   "source": []
  },
  {
   "cell_type": "code",
   "execution_count": null,
   "id": "87bdc7f2-f7fd-4329-af9f-34d5220ca4f0",
   "metadata": {},
   "outputs": [],
   "source": []
  },
  {
   "cell_type": "code",
   "execution_count": null,
   "id": "c4fb1043-fe1b-480c-a53b-581d697329d6",
   "metadata": {},
   "outputs": [],
   "source": []
  },
  {
   "cell_type": "code",
   "execution_count": null,
   "id": "60a0e9c8-27f1-41d8-9daf-87c1de9a2e68",
   "metadata": {},
   "outputs": [],
   "source": []
  },
  {
   "cell_type": "code",
   "execution_count": null,
   "id": "214e0f48-0e33-4c59-9ff3-f7f2166107c2",
   "metadata": {},
   "outputs": [],
   "source": []
  },
  {
   "cell_type": "code",
   "execution_count": null,
   "id": "74b143ff-0c44-4dde-9cbc-b9b75160a9b7",
   "metadata": {},
   "outputs": [],
   "source": []
  },
  {
   "cell_type": "code",
   "execution_count": null,
   "id": "e18bf683-24cf-4ed1-abc1-e3bc61f58a09",
   "metadata": {},
   "outputs": [],
   "source": []
  },
  {
   "cell_type": "code",
   "execution_count": null,
   "id": "499121bb-60a4-49e3-8b9a-2a9a20dae5a9",
   "metadata": {},
   "outputs": [],
   "source": [
    "# n = 11\n",
    "\n",
    "# c=ROOT.TCanvas()\n",
    "# c.cd()\n",
    "# data.samples[n].data_hist.Draw(\"HIST\")\n",
    "# osc_pred.samples[n].data_hist.SetLineColor(ROOT.kRed)\n",
    "# osc_pred.samples[n].data_hist.Draw(\"HIST same\")\n",
    "\n",
    "# c.Draw()"
   ]
  },
  {
   "cell_type": "code",
   "execution_count": null,
   "id": "d39f6919-7d5b-4eec-b250-f41fd4e79082",
   "metadata": {},
   "outputs": [],
   "source": []
  }
 ],
 "metadata": {
  "kernelspec": {
   "display_name": "Python 3 (ipykernel)",
   "language": "python",
   "name": "python3"
  },
  "language_info": {
   "codemirror_mode": {
    "name": "ipython",
    "version": 3
   },
   "file_extension": ".py",
   "mimetype": "text/x-python",
   "name": "python",
   "nbconvert_exporter": "python",
   "pygments_lexer": "ipython3",
   "version": "3.11.11"
  }
 },
 "nbformat": 4,
 "nbformat_minor": 5
}
